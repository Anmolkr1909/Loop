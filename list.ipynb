{
  "nbformat": 4,
  "nbformat_minor": 0,
  "metadata": {
    "colab": {
      "provenance": [],
      "authorship_tag": "ABX9TyN9AhIXV7opPA05VwQDlTg3",
      "include_colab_link": true
    },
    "kernelspec": {
      "name": "python3",
      "display_name": "Python 3"
    },
    "language_info": {
      "name": "python"
    }
  },
  "cells": [
    {
      "cell_type": "markdown",
      "metadata": {
        "id": "view-in-github",
        "colab_type": "text"
      },
      "source": [
        "<a href=\"https://colab.research.google.com/github/Anmolkr1909/Loop/blob/main/list.ipynb\" target=\"_parent\"><img src=\"https://colab.research.google.com/assets/colab-badge.svg\" alt=\"Open In Colab\"/></a>"
      ]
    },
    {
      "cell_type": "markdown",
      "source": [
        "# List"
      ],
      "metadata": {
        "id": "-k3_eGhOxZud"
      }
    },
    {
      "cell_type": "markdown",
      "source": [
        "\n",
        "\n",
        "---\n",
        "\n",
        "\n",
        "\n"
      ],
      "metadata": {
        "id": "zRQ0J6YexZwY"
      }
    },
    {
      "cell_type": "markdown",
      "source": [
        "43) Grocery List Manager\n",
        "\n",
        "   *   Add tasks, show tasks, remove tasks from a list"
      ],
      "metadata": {
        "id": "qR9X-XH2xoQP"
      }
    },
    {
      "cell_type": "code",
      "source": [
        "# Empty to-do list\n",
        "todo_list = []\n",
        "\n",
        "# Adding tasks\n",
        "todo_list.append(\"Wake up early\")\n",
        "todo_list.append(\"Study Python\")\n",
        "todo_list.append(\"Go for walk\")\n",
        "\n",
        "# Showing all tasks\n",
        "print(\"My Tasks for Today:\")\n",
        "for task in todo_list:\n",
        "    print(\"- \" + task)\n",
        "\n",
        "# Removing a task\n",
        "todo_list.remove(\"Go for walk\")\n",
        "\n",
        "# Final list\n",
        "print(\"\\n Updated Task List:\")\n",
        "print(todo_list)\n"
      ],
      "metadata": {
        "colab": {
          "base_uri": "https://localhost:8080/"
        },
        "id": "sOVDk_EqyDK-",
        "outputId": "b895ba61-a885-480e-d06f-a8b470e60123"
      },
      "execution_count": 1,
      "outputs": [
        {
          "output_type": "stream",
          "name": "stdout",
          "text": [
            "My Tasks for Today:\n",
            "- Wake up early\n",
            "- Study Python\n",
            "- Go for walk\n",
            "\n",
            " Updated Task List:\n",
            "['Wake up early', 'Study Python']\n"
          ]
        }
      ]
    },
    {
      "cell_type": "markdown",
      "source": [
        "\n",
        "\n",
        "---\n",
        "\n"
      ],
      "metadata": {
        "id": "f3_WrLhMycPL"
      }
    },
    {
      "cell_type": "markdown",
      "source": [
        "44) Simple Shopping Cart\n",
        "  *  User adds items to cart, views total items"
      ],
      "metadata": {
        "id": "yUXRi43NyeMQ"
      }
    },
    {
      "cell_type": "code",
      "source": [
        "cart = []\n",
        "\n",
        "# Adding items\n",
        "cart.append(\"Milk\")\n",
        "cart.append(\"Bread\")\n",
        "cart.append(\"Eggs\")\n",
        "\n",
        "print(\"🛒 Items in Cart:\", cart)\n",
        "print(\"🧮 Total Items:\", len(cart))\n"
      ],
      "metadata": {
        "colab": {
          "base_uri": "https://localhost:8080/"
        },
        "id": "Mr_R8QBQydv-",
        "outputId": "22c840b6-5575-4651-d32f-6cd51c61549c"
      },
      "execution_count": 2,
      "outputs": [
        {
          "output_type": "stream",
          "name": "stdout",
          "text": [
            "🛒 Items in Cart: ['Milk', 'Bread', 'Eggs']\n",
            "🧮 Total Items: 3\n"
          ]
        }
      ]
    },
    {
      "cell_type": "markdown",
      "source": [
        "\n",
        "\n",
        "---\n",
        "\n"
      ],
      "metadata": {
        "id": "D_p7zPOJy6Mz"
      }
    },
    {
      "cell_type": "markdown",
      "source": [
        "45) Student Score Analyzer\n",
        "*    Student Score Analyzer"
      ],
      "metadata": {
        "id": "jwgJV7-Wy8Y8"
      }
    },
    {
      "cell_type": "code",
      "source": [
        "# Marks of 5 students\n",
        "scores = [88, 76, 92, 67, 85]\n",
        "\n",
        "# Average\n",
        "average = sum(scores) / len(scores)\n",
        "\n",
        "# Highest score\n",
        "highest = max(scores)\n",
        "\n",
        "print(\"Average Marks:\", average)\n",
        "print(\"Highest Marks:\", highest)\n"
      ],
      "metadata": {
        "colab": {
          "base_uri": "https://localhost:8080/"
        },
        "id": "rfgE7w9ozp-b",
        "outputId": "fe5aa34a-2ba8-4baf-cc10-98b9dd83fef7"
      },
      "execution_count": 3,
      "outputs": [
        {
          "output_type": "stream",
          "name": "stdout",
          "text": [
            "Average Marks: 81.6\n",
            "Highest Marks: 92\n"
          ]
        }
      ]
    },
    {
      "cell_type": "markdown",
      "source": [
        "\n",
        "\n",
        "---\n",
        "\n"
      ],
      "metadata": {
        "id": "RP5HAze1z5Qt"
      }
    },
    {
      "cell_type": "markdown",
      "source": [
        "46)  Contact Book\n",
        "*    Store names of contacts and check if a person is saved"
      ],
      "metadata": {
        "id": "ycBWfiBGz6lA"
      }
    },
    {
      "cell_type": "code",
      "source": [
        "contacts = [\"Anmol\", \"Priya\", \"Ravi\", \"Neha\"]\n",
        "\n",
        "# Check if someone is in contact\n",
        "name = input(\"Enter name to search: \")\n",
        "\n",
        "if name in contacts:\n",
        "    print(name, \"is in your contact list.\")\n",
        "else:\n",
        "    print(name, \"is not found.\")\n"
      ],
      "metadata": {
        "colab": {
          "base_uri": "https://localhost:8080/"
        },
        "id": "XRqeOQX-0F5v",
        "outputId": "a68425d7-021f-4437-dd49-64d2af4239d2"
      },
      "execution_count": 4,
      "outputs": [
        {
          "output_type": "stream",
          "name": "stdout",
          "text": [
            "Enter name to search: Anmol\n",
            "Anmol is in your contact list.\n"
          ]
        }
      ]
    },
    {
      "cell_type": "markdown",
      "source": [
        "\n",
        "\n",
        "---\n",
        "\n"
      ],
      "metadata": {
        "id": "xSGn4lhL0x9Q"
      }
    },
    {
      "cell_type": "markdown",
      "source": [
        "47) Daily Temperature Logger\n",
        "*  Log 7 days temperature and find min/max"
      ],
      "metadata": {
        "id": "ViZ3fKPx0zCz"
      }
    },
    {
      "cell_type": "code",
      "source": [
        "temps = [30, 32, 29, 35, 31, 33, 34]\n",
        "\n",
        "print(\"Week's Temperatures:\", temps)\n",
        "print(\"Highest:\", max(temps))\n",
        "print(\"Lowest:\", min(temps))\n"
      ],
      "metadata": {
        "colab": {
          "base_uri": "https://localhost:8080/"
        },
        "id": "0c4bZI6m1F27",
        "outputId": "a77b0528-274d-4661-c5dc-33235fefacd6"
      },
      "execution_count": 5,
      "outputs": [
        {
          "output_type": "stream",
          "name": "stdout",
          "text": [
            "Week's Temperatures: [30, 32, 29, 35, 31, 33, 34]\n",
            "Highest: 35\n",
            "Lowest: 29\n"
          ]
        }
      ]
    },
    {
      "cell_type": "markdown",
      "source": [
        "\n",
        "\n",
        "---\n",
        "\n",
        "\n",
        "\n",
        "---\n",
        "\n"
      ],
      "metadata": {
        "id": "4c9hwn0E1Q5N"
      }
    }
  ]
}