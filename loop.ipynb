{
  "nbformat": 4,
  "nbformat_minor": 0,
  "metadata": {
    "colab": {
      "provenance": [],
      "authorship_tag": "ABX9TyOQHDlgVb5ZUTADxbdvTtDU",
      "include_colab_link": true
    },
    "kernelspec": {
      "name": "python3",
      "display_name": "Python 3"
    },
    "language_info": {
      "name": "python"
    }
  },
  "cells": [
    {
      "cell_type": "markdown",
      "metadata": {
        "id": "view-in-github",
        "colab_type": "text"
      },
      "source": [
        "<a href=\"https://colab.research.google.com/github/Anmolkr1909/Loop/blob/main/loop.ipynb\" target=\"_parent\"><img src=\"https://colab.research.google.com/assets/colab-badge.svg\" alt=\"Open In Colab\"/></a>"
      ]
    },
    {
      "cell_type": "markdown",
      "source": [
        "# Loop\n",
        "\n",
        "---\n",
        "\n"
      ],
      "metadata": {
        "id": "ZrJQjgJAA1o4"
      }
    },
    {
      "cell_type": "markdown",
      "source": [
        "38) Number Guessing Game\n",
        " *  using ( while loop + break )"
      ],
      "metadata": {
        "id": "woSszNSuA6ee"
      }
    },
    {
      "cell_type": "code",
      "source": [
        "secret_number = 7\n",
        "\n",
        "\n",
        "while True:\n",
        "    guess = int(input(\"Guess a number between 1 to 10: \"))\n",
        "\n",
        "    if guess == secret_number:\n",
        "        print(\" Correct! You win.\")\n",
        "        break  # End game when guessed\n",
        "    else:\n",
        "        print(\" Wrong guess. Try again.\")\n"
      ],
      "metadata": {
        "colab": {
          "base_uri": "https://localhost:8080/"
        },
        "id": "GjyzY8vzBv04",
        "outputId": "443e938d-2055-4f1a-d3e7-59e49abb3799"
      },
      "execution_count": null,
      "outputs": [
        {
          "output_type": "stream",
          "name": "stdout",
          "text": [
            "Guess a number between 1 to 10: 3\n",
            " Wrong guess. Try again.\n",
            "Guess a number between 1 to 10: 6\n",
            " Wrong guess. Try again.\n",
            "Guess a number between 1 to 10: 9\n",
            " Wrong guess. Try again.\n",
            "Guess a number between 1 to 10: 7\n",
            " Correct! You win.\n"
          ]
        }
      ]
    },
    {
      "cell_type": "markdown",
      "source": [
        "\n",
        "\n",
        "---\n",
        "\n"
      ],
      "metadata": {
        "id": "o9DkrbXDE_1i"
      }
    },
    {
      "cell_type": "markdown",
      "source": [
        "39) Student Marks Average Calculator\n",
        "*  using ( for loop )"
      ],
      "metadata": {
        "id": "HJAO3HmfCoPE"
      }
    },
    {
      "cell_type": "code",
      "source": [
        "# List of marks for 5 subjects\n",
        "marks = [80, 90, 75, 60, 85]\n",
        "\n",
        "total = 0\n",
        "for mark in marks:\n",
        "    total += mark  # Add all marks\n",
        "\n",
        "average = total / len(marks)\n",
        "print(\"Average marks:\", average)\n"
      ],
      "metadata": {
        "colab": {
          "base_uri": "https://localhost:8080/"
        },
        "id": "lun6uYfcC9V4",
        "outputId": "bc66e20f-9750-433a-ed5c-550ff6599e48"
      },
      "execution_count": null,
      "outputs": [
        {
          "output_type": "stream",
          "name": "stdout",
          "text": [
            "Average marks: 78.0\n"
          ]
        }
      ]
    },
    {
      "cell_type": "markdown",
      "source": [
        "\n",
        "\n",
        "---\n",
        "\n"
      ],
      "metadata": {
        "id": "q1mhu_pJFn8w"
      }
    },
    {
      "cell_type": "markdown",
      "source": [
        "40)  Odd-Even Number Separator\n",
        "   *  using (for loop + continue)\n",
        "\n"
      ],
      "metadata": {
        "id": "gQj2yy3ODFe3"
      }
    },
    {
      "cell_type": "code",
      "source": [
        "numbers = [1, 4, 5, 7, 10, 11]\n",
        "\n",
        "for num in numbers:\n",
        "    if num % 2 == 0:\n",
        "        continue  # Skip even numbers\n",
        "    print(\"Odd number:\", num)\n"
      ],
      "metadata": {
        "colab": {
          "base_uri": "https://localhost:8080/"
        },
        "id": "zEAVJcSODRkX",
        "outputId": "3280bd4c-44f3-43ab-9d7b-39b576e64eed"
      },
      "execution_count": null,
      "outputs": [
        {
          "output_type": "stream",
          "name": "stdout",
          "text": [
            "Odd number: 1\n",
            "Odd number: 5\n",
            "Odd number: 7\n",
            "Odd number: 11\n"
          ]
        }
      ]
    },
    {
      "cell_type": "markdown",
      "source": [
        "\n",
        "\n",
        "---\n",
        "\n"
      ],
      "metadata": {
        "id": "vPWNOWnEE-6K"
      }
    },
    {
      "cell_type": "markdown",
      "source": [
        "41)  Login System (3 tries only)\n",
        "   *  using  (while loop + break)"
      ],
      "metadata": {
        "id": "macEbYKtDl7G"
      }
    },
    {
      "cell_type": "code",
      "source": [
        "correct_password = \"hello123\"\n",
        "attempts = 0\n",
        "\n",
        "while attempts < 3:\n",
        "    user_input = input(\"Enter password: \")\n",
        "\n",
        "    if user_input == correct_password:\n",
        "        print(\"Login successful!\")\n",
        "        break\n",
        "    else:\n",
        "        print(\"Wrong password.\")\n",
        "        attempts += 1\n",
        "\n",
        "if attempts == 3:\n",
        "    print(\"Too many attempts. Access denied.\")\n"
      ],
      "metadata": {
        "colab": {
          "base_uri": "https://localhost:8080/"
        },
        "id": "d2RkDUG5DnRV",
        "outputId": "7dd354d1-1ade-4db4-be9c-0e695c0acc41"
      },
      "execution_count": null,
      "outputs": [
        {
          "output_type": "stream",
          "name": "stdout",
          "text": [
            "Enter password: 123\n",
            "Wrong password.\n",
            "Enter password: hello123\n",
            "Login successful!\n"
          ]
        }
      ]
    },
    {
      "cell_type": "markdown",
      "source": [
        "\n",
        "\n",
        "---\n",
        "\n"
      ],
      "metadata": {
        "id": "nnyBzukqE-BE"
      }
    },
    {
      "cell_type": "markdown",
      "source": [
        "42) Name Letter Counter\n",
        "* using (for loop + pass)"
      ],
      "metadata": {
        "id": "EEmrlFfjEAjt"
      }
    },
    {
      "cell_type": "code",
      "source": [
        "name = \"Anmol\"\n",
        "\n",
        "for letter in name:\n",
        "    if letter == \"z\":\n",
        "        pass\n",
        "\n",
        "    print(\"Letter:\", letter)"
      ],
      "metadata": {
        "colab": {
          "base_uri": "https://localhost:8080/"
        },
        "id": "Fq6yWrcxEqxT",
        "outputId": "b36f1659-5b40-415f-d405-491064223b51"
      },
      "execution_count": null,
      "outputs": [
        {
          "output_type": "stream",
          "name": "stdout",
          "text": [
            "Letter: A\n",
            "Letter: n\n",
            "Letter: m\n",
            "Letter: o\n",
            "Letter: l\n"
          ]
        }
      ]
    },
    {
      "cell_type": "markdown",
      "source": [
        "\n",
        "\n",
        "---\n",
        "\n"
      ],
      "metadata": {
        "id": "WWe-nT9oE0FW"
      }
    }
  ]
}